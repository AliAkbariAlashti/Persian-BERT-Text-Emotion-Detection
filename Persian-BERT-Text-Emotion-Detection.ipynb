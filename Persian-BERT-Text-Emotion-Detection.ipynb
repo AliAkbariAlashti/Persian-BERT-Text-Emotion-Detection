{
  "nbformat": 4,
  "nbformat_minor": 0,
  "metadata": {
    "colab": {
      "provenance": [],
      "gpuType": "T4"
    },
    "kernelspec": {
      "name": "python3",
      "display_name": "Python 3"
    },
    "language_info": {
      "name": "python"
    },
    "accelerator": "GPU",
    "widgets": {
      "application/vnd.jupyter.widget-state+json": {
        "fe6d4756419d4988a23012ccabdfe7e7": {
          "model_module": "@jupyter-widgets/controls",
          "model_name": "HBoxModel",
          "model_module_version": "1.5.0",
          "state": {
            "_dom_classes": [],
            "_model_module": "@jupyter-widgets/controls",
            "_model_module_version": "1.5.0",
            "_model_name": "HBoxModel",
            "_view_count": null,
            "_view_module": "@jupyter-widgets/controls",
            "_view_module_version": "1.5.0",
            "_view_name": "HBoxView",
            "box_style": "",
            "children": [
              "IPY_MODEL_9a25a6429b624160b0154bf6e7a4a6f8",
              "IPY_MODEL_d5798c2beffd4fabb22a602061973875",
              "IPY_MODEL_a0828e0a81094801ab5864c3e2881a95"
            ],
            "layout": "IPY_MODEL_0b2bb0558a4846689766259bf9239ff7"
          }
        },
        "9a25a6429b624160b0154bf6e7a4a6f8": {
          "model_module": "@jupyter-widgets/controls",
          "model_name": "HTMLModel",
          "model_module_version": "1.5.0",
          "state": {
            "_dom_classes": [],
            "_model_module": "@jupyter-widgets/controls",
            "_model_module_version": "1.5.0",
            "_model_name": "HTMLModel",
            "_view_count": null,
            "_view_module": "@jupyter-widgets/controls",
            "_view_module_version": "1.5.0",
            "_view_name": "HTMLView",
            "description": "",
            "description_tooltip": null,
            "layout": "IPY_MODEL_03876ac0ae1740f09e75046546edd128",
            "placeholder": "​",
            "style": "IPY_MODEL_d66dad6a6f0c45ba8904da33a62ee63c",
            "value": "Map: 100%"
          }
        },
        "d5798c2beffd4fabb22a602061973875": {
          "model_module": "@jupyter-widgets/controls",
          "model_name": "FloatProgressModel",
          "model_module_version": "1.5.0",
          "state": {
            "_dom_classes": [],
            "_model_module": "@jupyter-widgets/controls",
            "_model_module_version": "1.5.0",
            "_model_name": "FloatProgressModel",
            "_view_count": null,
            "_view_module": "@jupyter-widgets/controls",
            "_view_module_version": "1.5.0",
            "_view_name": "ProgressView",
            "bar_style": "success",
            "description": "",
            "description_tooltip": null,
            "layout": "IPY_MODEL_b9f2571f0b7e4b5098b520e438031ee8",
            "max": 920,
            "min": 0,
            "orientation": "horizontal",
            "style": "IPY_MODEL_cd077740ab9544d4b1b26349c8e7f672",
            "value": 920
          }
        },
        "a0828e0a81094801ab5864c3e2881a95": {
          "model_module": "@jupyter-widgets/controls",
          "model_name": "HTMLModel",
          "model_module_version": "1.5.0",
          "state": {
            "_dom_classes": [],
            "_model_module": "@jupyter-widgets/controls",
            "_model_module_version": "1.5.0",
            "_model_name": "HTMLModel",
            "_view_count": null,
            "_view_module": "@jupyter-widgets/controls",
            "_view_module_version": "1.5.0",
            "_view_name": "HTMLView",
            "description": "",
            "description_tooltip": null,
            "layout": "IPY_MODEL_e83fe9398fc14996bcd890d5c4526b27",
            "placeholder": "​",
            "style": "IPY_MODEL_d0cd596a45714d2ea02cf1b0ad2e6415",
            "value": " 920/920 [00:00&lt;00:00, 4320.27 examples/s]"
          }
        },
        "0b2bb0558a4846689766259bf9239ff7": {
          "model_module": "@jupyter-widgets/base",
          "model_name": "LayoutModel",
          "model_module_version": "1.2.0",
          "state": {
            "_model_module": "@jupyter-widgets/base",
            "_model_module_version": "1.2.0",
            "_model_name": "LayoutModel",
            "_view_count": null,
            "_view_module": "@jupyter-widgets/base",
            "_view_module_version": "1.2.0",
            "_view_name": "LayoutView",
            "align_content": null,
            "align_items": null,
            "align_self": null,
            "border": null,
            "bottom": null,
            "display": null,
            "flex": null,
            "flex_flow": null,
            "grid_area": null,
            "grid_auto_columns": null,
            "grid_auto_flow": null,
            "grid_auto_rows": null,
            "grid_column": null,
            "grid_gap": null,
            "grid_row": null,
            "grid_template_areas": null,
            "grid_template_columns": null,
            "grid_template_rows": null,
            "height": null,
            "justify_content": null,
            "justify_items": null,
            "left": null,
            "margin": null,
            "max_height": null,
            "max_width": null,
            "min_height": null,
            "min_width": null,
            "object_fit": null,
            "object_position": null,
            "order": null,
            "overflow": null,
            "overflow_x": null,
            "overflow_y": null,
            "padding": null,
            "right": null,
            "top": null,
            "visibility": null,
            "width": null
          }
        },
        "03876ac0ae1740f09e75046546edd128": {
          "model_module": "@jupyter-widgets/base",
          "model_name": "LayoutModel",
          "model_module_version": "1.2.0",
          "state": {
            "_model_module": "@jupyter-widgets/base",
            "_model_module_version": "1.2.0",
            "_model_name": "LayoutModel",
            "_view_count": null,
            "_view_module": "@jupyter-widgets/base",
            "_view_module_version": "1.2.0",
            "_view_name": "LayoutView",
            "align_content": null,
            "align_items": null,
            "align_self": null,
            "border": null,
            "bottom": null,
            "display": null,
            "flex": null,
            "flex_flow": null,
            "grid_area": null,
            "grid_auto_columns": null,
            "grid_auto_flow": null,
            "grid_auto_rows": null,
            "grid_column": null,
            "grid_gap": null,
            "grid_row": null,
            "grid_template_areas": null,
            "grid_template_columns": null,
            "grid_template_rows": null,
            "height": null,
            "justify_content": null,
            "justify_items": null,
            "left": null,
            "margin": null,
            "max_height": null,
            "max_width": null,
            "min_height": null,
            "min_width": null,
            "object_fit": null,
            "object_position": null,
            "order": null,
            "overflow": null,
            "overflow_x": null,
            "overflow_y": null,
            "padding": null,
            "right": null,
            "top": null,
            "visibility": null,
            "width": null
          }
        },
        "d66dad6a6f0c45ba8904da33a62ee63c": {
          "model_module": "@jupyter-widgets/controls",
          "model_name": "DescriptionStyleModel",
          "model_module_version": "1.5.0",
          "state": {
            "_model_module": "@jupyter-widgets/controls",
            "_model_module_version": "1.5.0",
            "_model_name": "DescriptionStyleModel",
            "_view_count": null,
            "_view_module": "@jupyter-widgets/base",
            "_view_module_version": "1.2.0",
            "_view_name": "StyleView",
            "description_width": ""
          }
        },
        "b9f2571f0b7e4b5098b520e438031ee8": {
          "model_module": "@jupyter-widgets/base",
          "model_name": "LayoutModel",
          "model_module_version": "1.2.0",
          "state": {
            "_model_module": "@jupyter-widgets/base",
            "_model_module_version": "1.2.0",
            "_model_name": "LayoutModel",
            "_view_count": null,
            "_view_module": "@jupyter-widgets/base",
            "_view_module_version": "1.2.0",
            "_view_name": "LayoutView",
            "align_content": null,
            "align_items": null,
            "align_self": null,
            "border": null,
            "bottom": null,
            "display": null,
            "flex": null,
            "flex_flow": null,
            "grid_area": null,
            "grid_auto_columns": null,
            "grid_auto_flow": null,
            "grid_auto_rows": null,
            "grid_column": null,
            "grid_gap": null,
            "grid_row": null,
            "grid_template_areas": null,
            "grid_template_columns": null,
            "grid_template_rows": null,
            "height": null,
            "justify_content": null,
            "justify_items": null,
            "left": null,
            "margin": null,
            "max_height": null,
            "max_width": null,
            "min_height": null,
            "min_width": null,
            "object_fit": null,
            "object_position": null,
            "order": null,
            "overflow": null,
            "overflow_x": null,
            "overflow_y": null,
            "padding": null,
            "right": null,
            "top": null,
            "visibility": null,
            "width": null
          }
        },
        "cd077740ab9544d4b1b26349c8e7f672": {
          "model_module": "@jupyter-widgets/controls",
          "model_name": "ProgressStyleModel",
          "model_module_version": "1.5.0",
          "state": {
            "_model_module": "@jupyter-widgets/controls",
            "_model_module_version": "1.5.0",
            "_model_name": "ProgressStyleModel",
            "_view_count": null,
            "_view_module": "@jupyter-widgets/base",
            "_view_module_version": "1.2.0",
            "_view_name": "StyleView",
            "bar_color": null,
            "description_width": ""
          }
        },
        "e83fe9398fc14996bcd890d5c4526b27": {
          "model_module": "@jupyter-widgets/base",
          "model_name": "LayoutModel",
          "model_module_version": "1.2.0",
          "state": {
            "_model_module": "@jupyter-widgets/base",
            "_model_module_version": "1.2.0",
            "_model_name": "LayoutModel",
            "_view_count": null,
            "_view_module": "@jupyter-widgets/base",
            "_view_module_version": "1.2.0",
            "_view_name": "LayoutView",
            "align_content": null,
            "align_items": null,
            "align_self": null,
            "border": null,
            "bottom": null,
            "display": null,
            "flex": null,
            "flex_flow": null,
            "grid_area": null,
            "grid_auto_columns": null,
            "grid_auto_flow": null,
            "grid_auto_rows": null,
            "grid_column": null,
            "grid_gap": null,
            "grid_row": null,
            "grid_template_areas": null,
            "grid_template_columns": null,
            "grid_template_rows": null,
            "height": null,
            "justify_content": null,
            "justify_items": null,
            "left": null,
            "margin": null,
            "max_height": null,
            "max_width": null,
            "min_height": null,
            "min_width": null,
            "object_fit": null,
            "object_position": null,
            "order": null,
            "overflow": null,
            "overflow_x": null,
            "overflow_y": null,
            "padding": null,
            "right": null,
            "top": null,
            "visibility": null,
            "width": null
          }
        },
        "d0cd596a45714d2ea02cf1b0ad2e6415": {
          "model_module": "@jupyter-widgets/controls",
          "model_name": "DescriptionStyleModel",
          "model_module_version": "1.5.0",
          "state": {
            "_model_module": "@jupyter-widgets/controls",
            "_model_module_version": "1.5.0",
            "_model_name": "DescriptionStyleModel",
            "_view_count": null,
            "_view_module": "@jupyter-widgets/base",
            "_view_module_version": "1.2.0",
            "_view_name": "StyleView",
            "description_width": ""
          }
        },
        "d71fcfaac0484478a5375c633353f30c": {
          "model_module": "@jupyter-widgets/controls",
          "model_name": "HBoxModel",
          "model_module_version": "1.5.0",
          "state": {
            "_dom_classes": [],
            "_model_module": "@jupyter-widgets/controls",
            "_model_module_version": "1.5.0",
            "_model_name": "HBoxModel",
            "_view_count": null,
            "_view_module": "@jupyter-widgets/controls",
            "_view_module_version": "1.5.0",
            "_view_name": "HBoxView",
            "box_style": "",
            "children": [
              "IPY_MODEL_d12503f1a76244e7ad23d8a7d8a0a041",
              "IPY_MODEL_dae63e3572f4460690df3d7d1d470bae",
              "IPY_MODEL_c8d05740a5d74d8884556a6970a3373d"
            ],
            "layout": "IPY_MODEL_3dcd85e1c998454d9f907ac17148832e"
          }
        },
        "d12503f1a76244e7ad23d8a7d8a0a041": {
          "model_module": "@jupyter-widgets/controls",
          "model_name": "HTMLModel",
          "model_module_version": "1.5.0",
          "state": {
            "_dom_classes": [],
            "_model_module": "@jupyter-widgets/controls",
            "_model_module_version": "1.5.0",
            "_model_name": "HTMLModel",
            "_view_count": null,
            "_view_module": "@jupyter-widgets/controls",
            "_view_module_version": "1.5.0",
            "_view_name": "HTMLView",
            "description": "",
            "description_tooltip": null,
            "layout": "IPY_MODEL_d6f90769615a472c86ff97073a633817",
            "placeholder": "​",
            "style": "IPY_MODEL_648abb6e92f5410bbb4b5b8babbc92c1",
            "value": "Map: 100%"
          }
        },
        "dae63e3572f4460690df3d7d1d470bae": {
          "model_module": "@jupyter-widgets/controls",
          "model_name": "FloatProgressModel",
          "model_module_version": "1.5.0",
          "state": {
            "_dom_classes": [],
            "_model_module": "@jupyter-widgets/controls",
            "_model_module_version": "1.5.0",
            "_model_name": "FloatProgressModel",
            "_view_count": null,
            "_view_module": "@jupyter-widgets/controls",
            "_view_module_version": "1.5.0",
            "_view_name": "ProgressView",
            "bar_style": "success",
            "description": "",
            "description_tooltip": null,
            "layout": "IPY_MODEL_fe45555db6504c2194797c70bb8d5452",
            "max": 231,
            "min": 0,
            "orientation": "horizontal",
            "style": "IPY_MODEL_2929fd77b31d40b7b9de6e0c9a25dfe2",
            "value": 231
          }
        },
        "c8d05740a5d74d8884556a6970a3373d": {
          "model_module": "@jupyter-widgets/controls",
          "model_name": "HTMLModel",
          "model_module_version": "1.5.0",
          "state": {
            "_dom_classes": [],
            "_model_module": "@jupyter-widgets/controls",
            "_model_module_version": "1.5.0",
            "_model_name": "HTMLModel",
            "_view_count": null,
            "_view_module": "@jupyter-widgets/controls",
            "_view_module_version": "1.5.0",
            "_view_name": "HTMLView",
            "description": "",
            "description_tooltip": null,
            "layout": "IPY_MODEL_4fc734cc70dd4310bc1f45031410c62c",
            "placeholder": "​",
            "style": "IPY_MODEL_28e1380307ea47df9419f0cdb7fda87a",
            "value": " 231/231 [00:00&lt;00:00, 2775.33 examples/s]"
          }
        },
        "3dcd85e1c998454d9f907ac17148832e": {
          "model_module": "@jupyter-widgets/base",
          "model_name": "LayoutModel",
          "model_module_version": "1.2.0",
          "state": {
            "_model_module": "@jupyter-widgets/base",
            "_model_module_version": "1.2.0",
            "_model_name": "LayoutModel",
            "_view_count": null,
            "_view_module": "@jupyter-widgets/base",
            "_view_module_version": "1.2.0",
            "_view_name": "LayoutView",
            "align_content": null,
            "align_items": null,
            "align_self": null,
            "border": null,
            "bottom": null,
            "display": null,
            "flex": null,
            "flex_flow": null,
            "grid_area": null,
            "grid_auto_columns": null,
            "grid_auto_flow": null,
            "grid_auto_rows": null,
            "grid_column": null,
            "grid_gap": null,
            "grid_row": null,
            "grid_template_areas": null,
            "grid_template_columns": null,
            "grid_template_rows": null,
            "height": null,
            "justify_content": null,
            "justify_items": null,
            "left": null,
            "margin": null,
            "max_height": null,
            "max_width": null,
            "min_height": null,
            "min_width": null,
            "object_fit": null,
            "object_position": null,
            "order": null,
            "overflow": null,
            "overflow_x": null,
            "overflow_y": null,
            "padding": null,
            "right": null,
            "top": null,
            "visibility": null,
            "width": null
          }
        },
        "d6f90769615a472c86ff97073a633817": {
          "model_module": "@jupyter-widgets/base",
          "model_name": "LayoutModel",
          "model_module_version": "1.2.0",
          "state": {
            "_model_module": "@jupyter-widgets/base",
            "_model_module_version": "1.2.0",
            "_model_name": "LayoutModel",
            "_view_count": null,
            "_view_module": "@jupyter-widgets/base",
            "_view_module_version": "1.2.0",
            "_view_name": "LayoutView",
            "align_content": null,
            "align_items": null,
            "align_self": null,
            "border": null,
            "bottom": null,
            "display": null,
            "flex": null,
            "flex_flow": null,
            "grid_area": null,
            "grid_auto_columns": null,
            "grid_auto_flow": null,
            "grid_auto_rows": null,
            "grid_column": null,
            "grid_gap": null,
            "grid_row": null,
            "grid_template_areas": null,
            "grid_template_columns": null,
            "grid_template_rows": null,
            "height": null,
            "justify_content": null,
            "justify_items": null,
            "left": null,
            "margin": null,
            "max_height": null,
            "max_width": null,
            "min_height": null,
            "min_width": null,
            "object_fit": null,
            "object_position": null,
            "order": null,
            "overflow": null,
            "overflow_x": null,
            "overflow_y": null,
            "padding": null,
            "right": null,
            "top": null,
            "visibility": null,
            "width": null
          }
        },
        "648abb6e92f5410bbb4b5b8babbc92c1": {
          "model_module": "@jupyter-widgets/controls",
          "model_name": "DescriptionStyleModel",
          "model_module_version": "1.5.0",
          "state": {
            "_model_module": "@jupyter-widgets/controls",
            "_model_module_version": "1.5.0",
            "_model_name": "DescriptionStyleModel",
            "_view_count": null,
            "_view_module": "@jupyter-widgets/base",
            "_view_module_version": "1.2.0",
            "_view_name": "StyleView",
            "description_width": ""
          }
        },
        "fe45555db6504c2194797c70bb8d5452": {
          "model_module": "@jupyter-widgets/base",
          "model_name": "LayoutModel",
          "model_module_version": "1.2.0",
          "state": {
            "_model_module": "@jupyter-widgets/base",
            "_model_module_version": "1.2.0",
            "_model_name": "LayoutModel",
            "_view_count": null,
            "_view_module": "@jupyter-widgets/base",
            "_view_module_version": "1.2.0",
            "_view_name": "LayoutView",
            "align_content": null,
            "align_items": null,
            "align_self": null,
            "border": null,
            "bottom": null,
            "display": null,
            "flex": null,
            "flex_flow": null,
            "grid_area": null,
            "grid_auto_columns": null,
            "grid_auto_flow": null,
            "grid_auto_rows": null,
            "grid_column": null,
            "grid_gap": null,
            "grid_row": null,
            "grid_template_areas": null,
            "grid_template_columns": null,
            "grid_template_rows": null,
            "height": null,
            "justify_content": null,
            "justify_items": null,
            "left": null,
            "margin": null,
            "max_height": null,
            "max_width": null,
            "min_height": null,
            "min_width": null,
            "object_fit": null,
            "object_position": null,
            "order": null,
            "overflow": null,
            "overflow_x": null,
            "overflow_y": null,
            "padding": null,
            "right": null,
            "top": null,
            "visibility": null,
            "width": null
          }
        },
        "2929fd77b31d40b7b9de6e0c9a25dfe2": {
          "model_module": "@jupyter-widgets/controls",
          "model_name": "ProgressStyleModel",
          "model_module_version": "1.5.0",
          "state": {
            "_model_module": "@jupyter-widgets/controls",
            "_model_module_version": "1.5.0",
            "_model_name": "ProgressStyleModel",
            "_view_count": null,
            "_view_module": "@jupyter-widgets/base",
            "_view_module_version": "1.2.0",
            "_view_name": "StyleView",
            "bar_color": null,
            "description_width": ""
          }
        },
        "4fc734cc70dd4310bc1f45031410c62c": {
          "model_module": "@jupyter-widgets/base",
          "model_name": "LayoutModel",
          "model_module_version": "1.2.0",
          "state": {
            "_model_module": "@jupyter-widgets/base",
            "_model_module_version": "1.2.0",
            "_model_name": "LayoutModel",
            "_view_count": null,
            "_view_module": "@jupyter-widgets/base",
            "_view_module_version": "1.2.0",
            "_view_name": "LayoutView",
            "align_content": null,
            "align_items": null,
            "align_self": null,
            "border": null,
            "bottom": null,
            "display": null,
            "flex": null,
            "flex_flow": null,
            "grid_area": null,
            "grid_auto_columns": null,
            "grid_auto_flow": null,
            "grid_auto_rows": null,
            "grid_column": null,
            "grid_gap": null,
            "grid_row": null,
            "grid_template_areas": null,
            "grid_template_columns": null,
            "grid_template_rows": null,
            "height": null,
            "justify_content": null,
            "justify_items": null,
            "left": null,
            "margin": null,
            "max_height": null,
            "max_width": null,
            "min_height": null,
            "min_width": null,
            "object_fit": null,
            "object_position": null,
            "order": null,
            "overflow": null,
            "overflow_x": null,
            "overflow_y": null,
            "padding": null,
            "right": null,
            "top": null,
            "visibility": null,
            "width": null
          }
        },
        "28e1380307ea47df9419f0cdb7fda87a": {
          "model_module": "@jupyter-widgets/controls",
          "model_name": "DescriptionStyleModel",
          "model_module_version": "1.5.0",
          "state": {
            "_model_module": "@jupyter-widgets/controls",
            "_model_module_version": "1.5.0",
            "_model_name": "DescriptionStyleModel",
            "_view_count": null,
            "_view_module": "@jupyter-widgets/base",
            "_view_module_version": "1.2.0",
            "_view_name": "StyleView",
            "description_width": ""
          }
        }
      }
    }
  },
  "cells": [
    {
      "cell_type": "markdown",
      "source": [
        "# Persian BERT Text Classification - Student Project\n",
        "# Complete Tutorial: From Dataset to Hugging Face Hub"
      ],
      "metadata": {
        "id": "R7ouK-ygaZU8"
      }
    },
    {
      "cell_type": "code",
      "source": [
        "!git clone https://github.com/Arman-Rayan-Sharif/arman-text-emotion"
      ],
      "metadata": {
        "colab": {
          "base_uri": "https://localhost:8080/"
        },
        "id": "8vngG7KiSfCs",
        "outputId": "bcf2611d-a1bb-4d74-b89d-b7d3754b88dc"
      },
      "execution_count": 27,
      "outputs": [
        {
          "output_type": "stream",
          "name": "stdout",
          "text": [
            "fatal: destination path 'arman-text-emotion' already exists and is not an empty directory.\n"
          ]
        }
      ]
    },
    {
      "cell_type": "markdown",
      "source": [
        "# ============================================================================\n",
        "# 1. SETUP - Install Libraries and Check Environment\n",
        "# ============================================================================"
      ],
      "metadata": {
        "id": "JLiucZMvag3G"
      }
    },
    {
      "cell_type": "code",
      "source": [
        "# Install required packages\n",
        "!pip install transformers datasets accelerate evaluate scikit-learn huggingface_hub -q"
      ],
      "metadata": {
        "id": "n8N8JpHiaiiW"
      },
      "execution_count": 28,
      "outputs": []
    },
    {
      "cell_type": "code",
      "source": [
        "# Import libraries\n",
        "import pandas as pd\n",
        "import numpy as np\n",
        "import re\n",
        "import torch\n",
        "from sklearn.model_selection import train_test_split\n",
        "from sklearn.preprocessing import LabelEncoder\n",
        "from sklearn.metrics import accuracy_score, precision_recall_fscore_support, confusion_matrix\n",
        "import seaborn as sns\n",
        "import matplotlib.pyplot as plt\n",
        "from collections import Counter\n",
        "\n",
        "# Hugging Face imports\n",
        "from transformers import (\n",
        "    AutoTokenizer,\n",
        "    AutoModelForSequenceClassification,\n",
        "    TrainingArguments,\n",
        "    Trainer,\n",
        "    pipeline\n",
        ")\n",
        "from datasets import Dataset\n",
        "from huggingface_hub import notebook_login\n",
        "import evaluate"
      ],
      "metadata": {
        "id": "Okx5EJf2alcD"
      },
      "execution_count": 29,
      "outputs": []
    },
    {
      "cell_type": "code",
      "source": [
        "# Check GPU availability\n",
        "device = torch.device('cuda' if torch.cuda.is_available() else 'cpu')\n",
        "print(f\"Using device: {device}\")\n",
        "if torch.cuda.is_available():\n",
        "    print(f\"GPU Name: {torch.cuda.get_device_name()}\")\n",
        "    print(f\"GPU Memory: {torch.cuda.get_device_properties(0).total_memory / 1024**3:.1f} GB\")\n",
        "\n",
        "# Set random seed for reproducibility\n",
        "torch.manual_seed(42)\n",
        "np.random.seed(42)\n",
        "\n",
        "print(\"✅ Setup complete!\")"
      ],
      "metadata": {
        "colab": {
          "base_uri": "https://localhost:8080/"
        },
        "id": "UuFPTzUjSl69",
        "outputId": "e490f2da-4f74-4bec-9366-9ffe7d2ca724"
      },
      "execution_count": 30,
      "outputs": [
        {
          "output_type": "stream",
          "name": "stdout",
          "text": [
            "Using device: cuda\n",
            "GPU Name: Tesla T4\n",
            "GPU Memory: 14.7 GB\n",
            "✅ Setup complete!\n"
          ]
        }
      ]
    },
    {
      "cell_type": "markdown",
      "source": [
        "# ============================================================================\n",
        "# 2. LOAD DATASET\n",
        "# ============================================================================"
      ],
      "metadata": {
        "id": "Hq4XCCisaou8"
      }
    },
    {
      "cell_type": "markdown",
      "source": [
        "\"\"\"\n",
        "Load your Persian dataset here.\n",
        "Replace 'your_dataset.csv' with your actual file path.\n",
        "Make sure your CSV has columns: 'text' and 'label'\n",
        "\"\"\""
      ],
      "metadata": {
        "id": "9ci538u1aqg6"
      }
    },
    {
      "cell_type": "code",
      "source": [
        "# Upload your dataset file to Colab first, then load it\n",
        "# For demo purposes, I'll show how to load it:\n",
        "\n",
        "train_path = \"/content/arman-text-emotion/dataset/test.tsv\"\n",
        "\n",
        "df = pd.read_csv(train_path, sep='\\t', names=['text', 'label']) # Replace with your file path\n",
        "\n",
        "# For demonstration, let's create a sample dataset structure\n",
        "# (Remove this section and use the line above with your real dataset)\n",
        "# sample_data = {\n",
        "#     'text': [\n",
        "#         'امروز روز خوبی است',\n",
        "#         'من خیلی ناراحتم',\n",
        "#         'این فیلم عالی بود',\n",
        "#         'چقدر خسته‌ام',\n",
        "#         'خوشحالم که شما را می‌بینم'\n",
        "#     ],\n",
        "#     'label': ['positive', 'negative', 'positive', 'negative', 'positive']\n",
        "# }\n",
        "# df = pd.DataFrame(sample_data)\n",
        "# print(\"⚠️  Using sample data for demo. Replace with your actual dataset!\")"
      ],
      "metadata": {
        "id": "Vyj8nrOKavfS"
      },
      "execution_count": 31,
      "outputs": []
    },
    {
      "cell_type": "code",
      "source": [
        "# Display basic info about dataset\n",
        "print(f\"Dataset shape: {df.shape}\")\n",
        "print(f\"Columns: {df.columns.tolist()}\")\n",
        "print(\"\\nFirst few samples:\")\n",
        "print(df.head())\n",
        "\n",
        "# Check for missing values\n",
        "print(f\"\\nMissing values:\")\n",
        "print(df.isnull().sum())\n",
        "\n",
        "print(\"✅ Dataset loaded successfully!\")"
      ],
      "metadata": {
        "colab": {
          "base_uri": "https://localhost:8080/"
        },
        "id": "vrqWe8NmSpN5",
        "outputId": "891df684-0013-45b2-e741-b70c59295478"
      },
      "execution_count": 32,
      "outputs": [
        {
          "output_type": "stream",
          "name": "stdout",
          "text": [
            "Dataset shape: (1151, 2)\n",
            "Columns: ['text', 'label']\n",
            "\n",
            "First few samples:\n",
            "                                                text  label\n",
            "0  اين شايد اولين عزاى عمومى واقعى است كه ياد دار...    SAD\n",
            "1  دیشب بعد از ارسال تویت مربوط به آثار باستانی ت...  HAPPY\n",
            "2   کدوم شعبه پول نداده، بگو الان برات آمار دقیق ...  OTHER\n",
            "3  امروز وسط یه بحث با بابا مامانم گفتم آدم باید ...  HAPPY\n",
            "4  امشب گفت نامزدی دوستش که ادم روشنفکری است بهم ...    SAD\n",
            "\n",
            "Missing values:\n",
            "text     0\n",
            "label    0\n",
            "dtype: int64\n",
            "✅ Dataset loaded successfully!\n"
          ]
        }
      ]
    },
    {
      "cell_type": "markdown",
      "source": [
        "# ============================================================================\n",
        "# 3. PREPROCESSING (Simple, No Hazm)\n",
        "# ============================================================================"
      ],
      "metadata": {
        "id": "CRw-hUIiayz1"
      }
    },
    {
      "cell_type": "code",
      "source": [
        "def clean_persian_text(text):\n",
        "    \"\"\"\n",
        "    Simple Persian text cleaning without using hazm library.\n",
        "    This function handles common Persian text issues.\n",
        "    \"\"\"\n",
        "    if pd.isna(text):\n",
        "        return \"\"\n",
        "\n",
        "    text = str(text)\n",
        "\n",
        "    # Remove extra whitespaces\n",
        "    text = re.sub(r'\\s+', ' ', text)\n",
        "\n",
        "    # Normalize Arabic characters to Persian\n",
        "    arabic_to_persian = {\n",
        "        'ك': 'ک',  # Arabic kaf to Persian kaf\n",
        "        'ي': 'ی',  # Arabic yeh to Persian yeh\n",
        "        'ة': 'ه',  # Arabic teh marbuta to Persian heh\n",
        "        'ء': '',   # Remove hamza\n",
        "    }\n",
        "\n",
        "    for arabic, persian in arabic_to_persian.items():\n",
        "        text = text.replace(arabic, persian)\n",
        "\n",
        "    # Remove extra punctuation (keep basic ones)\n",
        "    text = re.sub(r'[^\\u0600-\\u06FF\\u0020-\\u007E\\u200C\\u200D]', ' ', text)\n",
        "\n",
        "    # Remove URLs, emails, numbers (optional - adjust based on your needs)\n",
        "    text = re.sub(r'http\\S+|www\\S+|https\\S+', '', text, flags=re.MULTILINE)\n",
        "    text = re.sub(r'\\S*@\\S*\\s?', '', text)\n",
        "    text = re.sub(r'\\d+', '', text)\n",
        "\n",
        "    # Remove extra spaces again\n",
        "    text = re.sub(r'\\s+', ' ', text).strip()\n",
        "\n",
        "    return text"
      ],
      "metadata": {
        "id": "is7AfT37TTWk"
      },
      "execution_count": 33,
      "outputs": []
    },
    {
      "cell_type": "code",
      "source": [
        "# Apply cleaning to text column\n",
        "print(\"Cleaning Persian text...\")\n",
        "df['text'] = df['text'].apply(clean_persian_text)\n",
        "\n",
        "# Show before/after examples\n",
        "print(\"\\nText cleaning examples:\")\n",
        "for i in range(min(3, len(df))):\n",
        "    print(f\"Row {i+1}: {df.iloc[i]['text']}\")\n",
        "\n",
        "# Remove empty texts\n",
        "df = df[df['text'].str.len() > 0]\n",
        "print(f\"\\nDataset shape after cleaning: {df.shape}\")\n",
        "\n",
        "print(\"✅ Text preprocessing complete!\")"
      ],
      "metadata": {
        "colab": {
          "base_uri": "https://localhost:8080/"
        },
        "id": "tr2pbKhda2ud",
        "outputId": "37d7c767-c767-45e8-a225-f293d8b18eaf"
      },
      "execution_count": 34,
      "outputs": [
        {
          "output_type": "stream",
          "name": "stdout",
          "text": [
            "Cleaning Persian text...\n",
            "\n",
            "Text cleaning examples:\n",
            "Row 1: این شاید اولین عزاى عمومى واقعى است که یاد دارم. تمام وجودم عزادار است؛ پر از گریه، پر از خشم، پر از فریاد. مثل همهى شما. . #آتشنشان_تسلیت\n",
            "Row 2: دیشب بعد از ارسال تویت مربوط به آثار باستانی تویت دیگری نوشتم ولی هرچه منتظر شدم ارسال نشد، از همون موقع تا الان تویتر نداشتم، ناراحت بودم که نکنه پیامی داده باشین ومن نبینم که الحمدالله خبری نیست خوب، چه خبر؟ من نبودم خوش گذشته؟\n",
            "Row 3: کدوم شعبه پول نداده، بگو الان برات آمار دقیق بدم، شعار الکی نده، هرکی برداشت پولشو کمتر از دو ساعت برگردوند وقتی فهمید کلاه سرش رفته و هیچ بانکی مثل آینده بهش نه خدمات میده نه سود\n",
            "\n",
            "Dataset shape after cleaning: (1151, 2)\n",
            "✅ Text preprocessing complete!\n"
          ]
        }
      ]
    },
    {
      "cell_type": "markdown",
      "source": [
        "# ============================================================================\n",
        "# 4. PREPARE LABELS\n",
        "# ============================================================================\n"
      ],
      "metadata": {
        "id": "jvUWGZdAa5HP"
      }
    },
    {
      "cell_type": "code",
      "source": [
        "# Check current label distribution\n",
        "print(\"Original label distribution:\")\n",
        "print(df['label'].value_counts())\n",
        "\n",
        "# Convert string labels to integers\n",
        "label_encoder = LabelEncoder()\n",
        "df['label_encoded'] = label_encoder.fit_transform(df['label'])\n",
        "\n",
        "# Create label mapping for reference\n",
        "label_mapping = dict(zip(label_encoder.classes_, label_encoder.transform(label_encoder.classes_)))\n",
        "print(f\"\\nLabel mapping: {label_mapping}\")\n",
        "\n",
        "# Reverse mapping (integer to string)\n",
        "id2label = {v: k for k, v in label_mapping.items()}\n",
        "label2id = label_mapping\n",
        "\n",
        "print(f\"Number of classes: {len(label_mapping)}\")\n",
        "print(f\"Labels: {list(label_mapping.keys())}\")\n",
        "\n",
        "# Show encoded label distribution\n",
        "print(\"\\nEncoded label distribution:\")\n",
        "print(df['label_encoded'].value_counts().sort_index())\n",
        "\n",
        "print(\"✅ Label encoding complete!\")"
      ],
      "metadata": {
        "colab": {
          "base_uri": "https://localhost:8080/"
        },
        "id": "vyh9eNr7TVir",
        "outputId": "0ab76a61-261d-4a8c-ecb2-9d3816a3a820"
      },
      "execution_count": 35,
      "outputs": [
        {
          "output_type": "stream",
          "name": "stdout",
          "text": [
            "Original label distribution:\n",
            "label\n",
            "HAPPY       275\n",
            "SAD         262\n",
            "OTHER       193\n",
            "ANGRY       154\n",
            "SURPRISE    145\n",
            "HATE         65\n",
            "FEAR         57\n",
            "Name: count, dtype: int64\n",
            "\n",
            "Label mapping: {'ANGRY': np.int64(0), 'FEAR': np.int64(1), 'HAPPY': np.int64(2), 'HATE': np.int64(3), 'OTHER': np.int64(4), 'SAD': np.int64(5), 'SURPRISE': np.int64(6)}\n",
            "Number of classes: 7\n",
            "Labels: ['ANGRY', 'FEAR', 'HAPPY', 'HATE', 'OTHER', 'SAD', 'SURPRISE']\n",
            "\n",
            "Encoded label distribution:\n",
            "label_encoded\n",
            "0    154\n",
            "1     57\n",
            "2    275\n",
            "3     65\n",
            "4    193\n",
            "5    262\n",
            "6    145\n",
            "Name: count, dtype: int64\n",
            "✅ Label encoding complete!\n"
          ]
        }
      ]
    },
    {
      "cell_type": "markdown",
      "source": [
        "# ============================================================================\n",
        "# 5. TRAIN/VALIDATION SPLIT\n",
        "# ============================================================================"
      ],
      "metadata": {
        "id": "29xClwbya_yF"
      }
    },
    {
      "cell_type": "code",
      "source": [
        "# Split dataset (80% train, 20% validation)\n",
        "train_texts, val_texts, train_labels, val_labels = train_test_split(\n",
        "    df['text'].tolist(),\n",
        "    df['label_encoded'].tolist(),\n",
        "    test_size=0.2,\n",
        "    random_state=42,\n",
        "    stratify=df['label_encoded']  # Ensure balanced split\n",
        ")"
      ],
      "metadata": {
        "id": "hLnoSPdhTYEE"
      },
      "execution_count": 36,
      "outputs": []
    },
    {
      "cell_type": "code",
      "source": [
        "print(f\"Training samples: {len(train_texts)}\")\n",
        "print(f\"Validation samples: {len(val_texts)}\")\n",
        "\n",
        "# Check label distribution in splits\n",
        "print(\"\\nTraining set label distribution:\")\n",
        "print(Counter(train_labels))\n",
        "print(\"\\nValidation set label distribution:\")\n",
        "print(Counter(val_labels))\n",
        "\n",
        "print(\"✅ Train/validation split complete!\")"
      ],
      "metadata": {
        "colab": {
          "base_uri": "https://localhost:8080/"
        },
        "id": "s93C73aYbDHr",
        "outputId": "dabb8bfc-99a8-40e7-979e-d003c7a78c52"
      },
      "execution_count": 37,
      "outputs": [
        {
          "output_type": "stream",
          "name": "stdout",
          "text": [
            "Training samples: 920\n",
            "Validation samples: 231\n",
            "\n",
            "Training set label distribution:\n",
            "Counter({2: 220, 5: 209, 4: 154, 0: 123, 6: 116, 3: 52, 1: 46})\n",
            "\n",
            "Validation set label distribution:\n",
            "Counter({2: 55, 5: 53, 4: 39, 0: 31, 6: 29, 3: 13, 1: 11})\n",
            "✅ Train/validation split complete!\n"
          ]
        }
      ]
    },
    {
      "cell_type": "markdown",
      "source": [
        "# ============================================================================\n",
        "# 6. TOKENIZATION & DATASET CONVERSION\n",
        "# ============================================================================"
      ],
      "metadata": {
        "id": "iEu9GGksbFBz"
      }
    },
    {
      "cell_type": "code",
      "source": [
        "# Choose a Persian BERT model\n",
        "# ParsBERT is specifically trained for Persian\n",
        "MODEL_NAME = \"HooshvareLab/bert-fa-zwnj-base\"\n",
        "\n",
        "# Load tokenizer\n",
        "print(f\"Loading tokenizer: {MODEL_NAME}\")\n",
        "tokenizer = AutoTokenizer.from_pretrained(MODEL_NAME)\n",
        "\n",
        "# Tokenization function\n",
        "def tokenize_function(examples):\n",
        "    \"\"\"Tokenize text with truncation and padding\"\"\"\n",
        "    return tokenizer(\n",
        "        examples['text'],\n",
        "        truncation=True,\n",
        "        padding=True,\n",
        "        max_length=128,  # Adjust based on your text length\n",
        "        return_tensors='pt'\n",
        "    )\n",
        "\n",
        "# Create datasets\n",
        "train_dataset = Dataset.from_dict({\n",
        "    'text': train_texts,\n",
        "    'labels': train_labels\n",
        "})\n",
        "\n",
        "val_dataset = Dataset.from_dict({\n",
        "    'text': val_texts,\n",
        "    'labels': val_labels\n",
        "})"
      ],
      "metadata": {
        "colab": {
          "base_uri": "https://localhost:8080/"
        },
        "id": "ty2UQU61bEmv",
        "outputId": "c92c9696-7e11-4e78-c58a-9b2d675bf930"
      },
      "execution_count": 38,
      "outputs": [
        {
          "output_type": "stream",
          "name": "stdout",
          "text": [
            "Loading tokenizer: HooshvareLab/bert-fa-zwnj-base\n"
          ]
        }
      ]
    },
    {
      "cell_type": "code",
      "source": [
        "# Apply tokenization\n",
        "print(\"Tokenizing datasets...\")\n",
        "train_dataset = train_dataset.map(tokenize_function, batched=True)\n",
        "val_dataset = val_dataset.map(tokenize_function, batched=True)\n",
        "\n",
        "# Set format for PyTorch\n",
        "train_dataset.set_format('torch', columns=['input_ids', 'attention_mask', 'labels'])\n",
        "val_dataset.set_format('torch', columns=['input_ids', 'attention_mask', 'labels'])\n",
        "\n",
        "print(f\"Training dataset: {train_dataset}\")\n",
        "print(f\"Validation dataset: {val_dataset}\")\n",
        "\n",
        "print(\"✅ Tokenization complete!\")"
      ],
      "metadata": {
        "colab": {
          "base_uri": "https://localhost:8080/",
          "height": 255,
          "referenced_widgets": [
            "fe6d4756419d4988a23012ccabdfe7e7",
            "9a25a6429b624160b0154bf6e7a4a6f8",
            "d5798c2beffd4fabb22a602061973875",
            "a0828e0a81094801ab5864c3e2881a95",
            "0b2bb0558a4846689766259bf9239ff7",
            "03876ac0ae1740f09e75046546edd128",
            "d66dad6a6f0c45ba8904da33a62ee63c",
            "b9f2571f0b7e4b5098b520e438031ee8",
            "cd077740ab9544d4b1b26349c8e7f672",
            "e83fe9398fc14996bcd890d5c4526b27",
            "d0cd596a45714d2ea02cf1b0ad2e6415",
            "d71fcfaac0484478a5375c633353f30c",
            "d12503f1a76244e7ad23d8a7d8a0a041",
            "dae63e3572f4460690df3d7d1d470bae",
            "c8d05740a5d74d8884556a6970a3373d",
            "3dcd85e1c998454d9f907ac17148832e",
            "d6f90769615a472c86ff97073a633817",
            "648abb6e92f5410bbb4b5b8babbc92c1",
            "fe45555db6504c2194797c70bb8d5452",
            "2929fd77b31d40b7b9de6e0c9a25dfe2",
            "4fc734cc70dd4310bc1f45031410c62c",
            "28e1380307ea47df9419f0cdb7fda87a"
          ]
        },
        "id": "DUmirPbiTbkd",
        "outputId": "73306294-27ea-449d-d42f-a0f4983f8145"
      },
      "execution_count": 39,
      "outputs": [
        {
          "output_type": "stream",
          "name": "stdout",
          "text": [
            "Tokenizing datasets...\n"
          ]
        },
        {
          "output_type": "display_data",
          "data": {
            "text/plain": [
              "Map:   0%|          | 0/920 [00:00<?, ? examples/s]"
            ],
            "application/vnd.jupyter.widget-view+json": {
              "version_major": 2,
              "version_minor": 0,
              "model_id": "fe6d4756419d4988a23012ccabdfe7e7"
            }
          },
          "metadata": {}
        },
        {
          "output_type": "display_data",
          "data": {
            "text/plain": [
              "Map:   0%|          | 0/231 [00:00<?, ? examples/s]"
            ],
            "application/vnd.jupyter.widget-view+json": {
              "version_major": 2,
              "version_minor": 0,
              "model_id": "d71fcfaac0484478a5375c633353f30c"
            }
          },
          "metadata": {}
        },
        {
          "output_type": "stream",
          "name": "stdout",
          "text": [
            "Training dataset: Dataset({\n",
            "    features: ['text', 'labels', 'input_ids', 'token_type_ids', 'attention_mask'],\n",
            "    num_rows: 920\n",
            "})\n",
            "Validation dataset: Dataset({\n",
            "    features: ['text', 'labels', 'input_ids', 'token_type_ids', 'attention_mask'],\n",
            "    num_rows: 231\n",
            "})\n",
            "✅ Tokenization complete!\n"
          ]
        }
      ]
    },
    {
      "cell_type": "markdown",
      "source": [
        "# ============================================================================\n",
        "# 7. MODEL SETUP\n",
        "# ============================================================================"
      ],
      "metadata": {
        "id": "7GKRFu38bMmV"
      }
    },
    {
      "cell_type": "code",
      "source": [
        "# Ensure label mappings have correct types (string keys for label2id, int keys for id2label)\n",
        "print(\"Preparing label mappings...\")\n",
        "print(f\"Original label_mapping: {label_mapping}\")\n",
        "\n",
        "# Create proper mappings with correct types\n",
        "id2label = {int(v): str(k) for k, v in label_mapping.items()}  # int -> str\n",
        "label2id = {str(k): int(v) for k, v in label_mapping.items()}  # str -> int\n",
        "\n",
        "print(f\"id2label: {id2label}\")\n",
        "print(f\"label2id: {label2id}\")"
      ],
      "metadata": {
        "colab": {
          "base_uri": "https://localhost:8080/"
        },
        "id": "56igvjc6bPwS",
        "outputId": "336c04c8-4b3f-4391-8e0a-a35d264c839d"
      },
      "execution_count": 40,
      "outputs": [
        {
          "output_type": "stream",
          "name": "stdout",
          "text": [
            "Preparing label mappings...\n",
            "Original label_mapping: {'ANGRY': np.int64(0), 'FEAR': np.int64(1), 'HAPPY': np.int64(2), 'HATE': np.int64(3), 'OTHER': np.int64(4), 'SAD': np.int64(5), 'SURPRISE': np.int64(6)}\n",
            "id2label: {0: 'ANGRY', 1: 'FEAR', 2: 'HAPPY', 3: 'HATE', 4: 'OTHER', 5: 'SAD', 6: 'SURPRISE'}\n",
            "label2id: {'ANGRY': 0, 'FEAR': 1, 'HAPPY': 2, 'HATE': 3, 'OTHER': 4, 'SAD': 5, 'SURPRISE': 6}\n"
          ]
        }
      ]
    },
    {
      "cell_type": "code",
      "source": [
        "# Load model for sequence classification\n",
        "print(f\"Loading model: {MODEL_NAME}\")\n",
        "model = AutoModelForSequenceClassification.from_pretrained(\n",
        "    MODEL_NAME,\n",
        "    num_labels=len(label_mapping),\n",
        "    id2label=id2label,\n",
        "    label2id=label2id\n",
        ")\n",
        "\n",
        "# Move model to GPU if available\n",
        "model.to(device)\n",
        "\n",
        "# Load evaluation metrics\n",
        "accuracy_metric = evaluate.load(\"accuracy\")"
      ],
      "metadata": {
        "colab": {
          "base_uri": "https://localhost:8080/"
        },
        "id": "3wlpYsWUbS4P",
        "outputId": "2a94c92b-d3bb-43f3-b73f-cf0ec4fa9190"
      },
      "execution_count": 41,
      "outputs": [
        {
          "output_type": "stream",
          "name": "stdout",
          "text": [
            "Loading model: HooshvareLab/bert-fa-zwnj-base\n"
          ]
        },
        {
          "output_type": "stream",
          "name": "stderr",
          "text": [
            "Some weights of BertForSequenceClassification were not initialized from the model checkpoint at HooshvareLab/bert-fa-zwnj-base and are newly initialized: ['bert.pooler.dense.bias', 'bert.pooler.dense.weight', 'classifier.bias', 'classifier.weight']\n",
            "You should probably TRAIN this model on a down-stream task to be able to use it for predictions and inference.\n"
          ]
        }
      ]
    },
    {
      "cell_type": "code",
      "source": [
        "def compute_metrics(eval_pred):\n",
        "    \"\"\"Compute metrics for evaluation\"\"\"\n",
        "    predictions, labels = eval_pred\n",
        "    predictions = np.argmax(predictions, axis=1)\n",
        "\n",
        "    accuracy = accuracy_metric.compute(predictions=predictions, references=labels)\n",
        "    precision, recall, f1, _ = precision_recall_fscore_support(labels, predictions, average='weighted')\n",
        "\n",
        "    return {\n",
        "        'accuracy': accuracy['accuracy'],\n",
        "        'f1': f1,\n",
        "        'precision': precision,\n",
        "        'recall': recall\n",
        "    }\n",
        "\n",
        "print(\"✅ Model setup complete!\")"
      ],
      "metadata": {
        "colab": {
          "base_uri": "https://localhost:8080/"
        },
        "id": "mNe7PhjaTeHB",
        "outputId": "d4e50162-c276-47fb-ca6c-cc1b694cf0f6"
      },
      "execution_count": 42,
      "outputs": [
        {
          "output_type": "stream",
          "name": "stdout",
          "text": [
            "✅ Model setup complete!\n"
          ]
        }
      ]
    },
    {
      "cell_type": "markdown",
      "source": [
        "# ============================================================================\n",
        "# 8. TRAINING\n",
        "# ============================================================================"
      ],
      "metadata": {
        "id": "SgStvGdgbcYn"
      }
    },
    {
      "cell_type": "code",
      "source": [
        "# Define training arguments\n",
        "training_args = TrainingArguments(\n",
        "    output_dir='./results',\n",
        "    num_train_epochs=20,              # Small number for student project\n",
        "    per_device_train_batch_size=16,  # Adjust based on GPU memory\n",
        "    per_device_eval_batch_size=16,\n",
        "    warmup_steps=100,\n",
        "    weight_decay=0.01,\n",
        "    logging_dir='./logs',\n",
        "    logging_steps=10,\n",
        "    eval_strategy=\"epoch\",           # Changed from evaluation_strategy\n",
        "    save_strategy=\"epoch\",\n",
        "    load_best_model_at_end=True,\n",
        "    metric_for_best_model=\"f1\",\n",
        "    push_to_hub=False,  # We'll push manually later\n",
        ")"
      ],
      "metadata": {
        "id": "8tAusd_YbfW5"
      },
      "execution_count": 43,
      "outputs": []
    },
    {
      "cell_type": "code",
      "source": [
        "# Create trainer\n",
        "trainer = Trainer(\n",
        "    model=model,\n",
        "    args=training_args,\n",
        "    train_dataset=train_dataset,\n",
        "    eval_dataset=val_dataset,\n",
        "    compute_metrics=compute_metrics,\n",
        ")\n",
        "\n",
        "# Start training\n",
        "print(\"🚀 Starting training...\")\n",
        "trainer.train()\n",
        "\n",
        "print(\"✅ Training complete!\")"
      ],
      "metadata": {
        "colab": {
          "base_uri": "https://localhost:8080/",
          "height": 827
        },
        "id": "Mg4ZSiOSTghY",
        "outputId": "3cedc74b-37b5-4f95-defe-504ca357eadf"
      },
      "execution_count": 44,
      "outputs": [
        {
          "output_type": "stream",
          "name": "stdout",
          "text": [
            "🚀 Starting training...\n"
          ]
        },
        {
          "output_type": "display_data",
          "data": {
            "text/plain": [
              "<IPython.core.display.HTML object>"
            ],
            "text/html": [
              "\n",
              "    <div>\n",
              "      \n",
              "      <progress value='1160' max='1160' style='width:300px; height:20px; vertical-align: middle;'></progress>\n",
              "      [1160/1160 08:45, Epoch 20/20]\n",
              "    </div>\n",
              "    <table border=\"1\" class=\"dataframe\">\n",
              "  <thead>\n",
              " <tr style=\"text-align: left;\">\n",
              "      <th>Epoch</th>\n",
              "      <th>Training Loss</th>\n",
              "      <th>Validation Loss</th>\n",
              "      <th>Accuracy</th>\n",
              "      <th>F1</th>\n",
              "      <th>Precision</th>\n",
              "      <th>Recall</th>\n",
              "    </tr>\n",
              "  </thead>\n",
              "  <tbody>\n",
              "    <tr>\n",
              "      <td>1</td>\n",
              "      <td>1.759100</td>\n",
              "      <td>1.558104</td>\n",
              "      <td>0.450216</td>\n",
              "      <td>0.381645</td>\n",
              "      <td>0.385669</td>\n",
              "      <td>0.450216</td>\n",
              "    </tr>\n",
              "    <tr>\n",
              "      <td>2</td>\n",
              "      <td>1.080100</td>\n",
              "      <td>1.059439</td>\n",
              "      <td>0.636364</td>\n",
              "      <td>0.607931</td>\n",
              "      <td>0.591829</td>\n",
              "      <td>0.636364</td>\n",
              "    </tr>\n",
              "    <tr>\n",
              "      <td>3</td>\n",
              "      <td>0.537100</td>\n",
              "      <td>1.040168</td>\n",
              "      <td>0.666667</td>\n",
              "      <td>0.652007</td>\n",
              "      <td>0.704297</td>\n",
              "      <td>0.666667</td>\n",
              "    </tr>\n",
              "    <tr>\n",
              "      <td>4</td>\n",
              "      <td>0.237800</td>\n",
              "      <td>1.072858</td>\n",
              "      <td>0.688312</td>\n",
              "      <td>0.685156</td>\n",
              "      <td>0.697542</td>\n",
              "      <td>0.688312</td>\n",
              "    </tr>\n",
              "    <tr>\n",
              "      <td>5</td>\n",
              "      <td>0.123600</td>\n",
              "      <td>1.439315</td>\n",
              "      <td>0.662338</td>\n",
              "      <td>0.650605</td>\n",
              "      <td>0.679797</td>\n",
              "      <td>0.662338</td>\n",
              "    </tr>\n",
              "    <tr>\n",
              "      <td>6</td>\n",
              "      <td>0.024800</td>\n",
              "      <td>1.427139</td>\n",
              "      <td>0.675325</td>\n",
              "      <td>0.665477</td>\n",
              "      <td>0.666875</td>\n",
              "      <td>0.675325</td>\n",
              "    </tr>\n",
              "    <tr>\n",
              "      <td>7</td>\n",
              "      <td>0.038200</td>\n",
              "      <td>1.611373</td>\n",
              "      <td>0.675325</td>\n",
              "      <td>0.668318</td>\n",
              "      <td>0.678447</td>\n",
              "      <td>0.675325</td>\n",
              "    </tr>\n",
              "    <tr>\n",
              "      <td>8</td>\n",
              "      <td>0.004500</td>\n",
              "      <td>1.557342</td>\n",
              "      <td>0.701299</td>\n",
              "      <td>0.693466</td>\n",
              "      <td>0.712815</td>\n",
              "      <td>0.701299</td>\n",
              "    </tr>\n",
              "    <tr>\n",
              "      <td>9</td>\n",
              "      <td>0.001100</td>\n",
              "      <td>1.574275</td>\n",
              "      <td>0.688312</td>\n",
              "      <td>0.680814</td>\n",
              "      <td>0.681452</td>\n",
              "      <td>0.688312</td>\n",
              "    </tr>\n",
              "    <tr>\n",
              "      <td>10</td>\n",
              "      <td>0.000900</td>\n",
              "      <td>1.617527</td>\n",
              "      <td>0.701299</td>\n",
              "      <td>0.694132</td>\n",
              "      <td>0.697550</td>\n",
              "      <td>0.701299</td>\n",
              "    </tr>\n",
              "    <tr>\n",
              "      <td>11</td>\n",
              "      <td>0.000800</td>\n",
              "      <td>1.646155</td>\n",
              "      <td>0.701299</td>\n",
              "      <td>0.694132</td>\n",
              "      <td>0.697550</td>\n",
              "      <td>0.701299</td>\n",
              "    </tr>\n",
              "    <tr>\n",
              "      <td>12</td>\n",
              "      <td>0.000700</td>\n",
              "      <td>1.666774</td>\n",
              "      <td>0.701299</td>\n",
              "      <td>0.693954</td>\n",
              "      <td>0.700648</td>\n",
              "      <td>0.701299</td>\n",
              "    </tr>\n",
              "    <tr>\n",
              "      <td>13</td>\n",
              "      <td>0.000700</td>\n",
              "      <td>1.672473</td>\n",
              "      <td>0.701299</td>\n",
              "      <td>0.694437</td>\n",
              "      <td>0.696646</td>\n",
              "      <td>0.701299</td>\n",
              "    </tr>\n",
              "    <tr>\n",
              "      <td>14</td>\n",
              "      <td>0.000600</td>\n",
              "      <td>1.694485</td>\n",
              "      <td>0.701299</td>\n",
              "      <td>0.694133</td>\n",
              "      <td>0.700086</td>\n",
              "      <td>0.701299</td>\n",
              "    </tr>\n",
              "    <tr>\n",
              "      <td>15</td>\n",
              "      <td>0.000600</td>\n",
              "      <td>1.706754</td>\n",
              "      <td>0.701299</td>\n",
              "      <td>0.694259</td>\n",
              "      <td>0.699744</td>\n",
              "      <td>0.701299</td>\n",
              "    </tr>\n",
              "    <tr>\n",
              "      <td>16</td>\n",
              "      <td>0.000500</td>\n",
              "      <td>1.721436</td>\n",
              "      <td>0.701299</td>\n",
              "      <td>0.694259</td>\n",
              "      <td>0.699744</td>\n",
              "      <td>0.701299</td>\n",
              "    </tr>\n",
              "    <tr>\n",
              "      <td>17</td>\n",
              "      <td>0.000600</td>\n",
              "      <td>1.722558</td>\n",
              "      <td>0.705628</td>\n",
              "      <td>0.698872</td>\n",
              "      <td>0.705203</td>\n",
              "      <td>0.705628</td>\n",
              "    </tr>\n",
              "    <tr>\n",
              "      <td>18</td>\n",
              "      <td>0.000500</td>\n",
              "      <td>1.729447</td>\n",
              "      <td>0.705628</td>\n",
              "      <td>0.698905</td>\n",
              "      <td>0.704450</td>\n",
              "      <td>0.705628</td>\n",
              "    </tr>\n",
              "    <tr>\n",
              "      <td>19</td>\n",
              "      <td>0.000500</td>\n",
              "      <td>1.734694</td>\n",
              "      <td>0.705628</td>\n",
              "      <td>0.699106</td>\n",
              "      <td>0.705130</td>\n",
              "      <td>0.705628</td>\n",
              "    </tr>\n",
              "    <tr>\n",
              "      <td>20</td>\n",
              "      <td>0.000500</td>\n",
              "      <td>1.736332</td>\n",
              "      <td>0.701299</td>\n",
              "      <td>0.694259</td>\n",
              "      <td>0.699744</td>\n",
              "      <td>0.701299</td>\n",
              "    </tr>\n",
              "  </tbody>\n",
              "</table><p>"
            ]
          },
          "metadata": {}
        },
        {
          "output_type": "stream",
          "name": "stderr",
          "text": [
            "/usr/local/lib/python3.12/dist-packages/sklearn/metrics/_classification.py:1565: UndefinedMetricWarning: Precision is ill-defined and being set to 0.0 in labels with no predicted samples. Use `zero_division` parameter to control this behavior.\n",
            "  _warn_prf(average, modifier, f\"{metric.capitalize()} is\", len(result))\n",
            "/usr/local/lib/python3.12/dist-packages/sklearn/metrics/_classification.py:1565: UndefinedMetricWarning: Precision is ill-defined and being set to 0.0 in labels with no predicted samples. Use `zero_division` parameter to control this behavior.\n",
            "  _warn_prf(average, modifier, f\"{metric.capitalize()} is\", len(result))\n"
          ]
        },
        {
          "output_type": "stream",
          "name": "stdout",
          "text": [
            "✅ Training complete!\n"
          ]
        }
      ]
    },
    {
      "cell_type": "markdown",
      "source": [
        "# ============================================================================\n",
        "# 9. EVALUATION\n",
        "# ============================================================================"
      ],
      "metadata": {
        "id": "M755NsDOZvjY"
      }
    },
    {
      "cell_type": "code",
      "source": [
        "# Evaluate on validation set\n",
        "print(\"Evaluating model...\")\n",
        "eval_results = trainer.evaluate()\n",
        "\n",
        "print(\"📊 Evaluation Results:\")\n",
        "for key, value in eval_results.items():\n",
        "    print(f\"{key}: {value:.4f}\")\n",
        "\n",
        "# Get predictions for detailed analysis\n",
        "predictions = trainer.predict(val_dataset)\n",
        "y_pred = np.argmax(predictions.predictions, axis=1)\n",
        "y_true = val_labels\n",
        "y_probs = torch.softmax(torch.tensor(predictions.predictions), dim=1).numpy()\n",
        "\n",
        "# Get confidence scores\n",
        "confidence_scores = np.max(y_probs, axis=1)\n",
        "\n",
        "print(f\"\\nPrediction confidence statistics:\")\n",
        "print(f\"Mean confidence: {confidence_scores.mean():.4f}\")\n",
        "print(f\"Min confidence: {confidence_scores.min():.4f}\")\n",
        "print(f\"Max confidence: {confidence_scores.max():.4f}\")\n",
        "\n",
        "# Create multiple visualizations\n",
        "plt.style.use('default')\n",
        "fig, axes = plt.subplots(2, 2, figsize=(15, 12))\n",
        "fig.suptitle('📊 Model Evaluation Results', fontsize=16, fontweight='bold')\n",
        "\n",
        "# 1. Confusion Matrix\n",
        "cm = confusion_matrix(y_true, y_pred)\n",
        "sns.heatmap(cm, annot=True, fmt='d', cmap='Blues',\n",
        "            xticklabels=label_encoder.classes_,\n",
        "            yticklabels=label_encoder.classes_,\n",
        "            ax=axes[0,0])\n",
        "axes[0,0].set_title('🎯 Confusion Matrix')\n",
        "axes[0,0].set_ylabel('True Label')\n",
        "axes[0,0].set_xlabel('Predicted Label')\n",
        "\n",
        "# 2. Per-class accuracy\n",
        "from sklearn.metrics import precision_recall_fscore_support\n",
        "precision, recall, f1, support = precision_recall_fscore_support(y_true, y_pred, average=None)\n",
        "\n",
        "class_names = label_encoder.classes_\n",
        "x_pos = np.arange(len(class_names))\n",
        "\n",
        "bars = axes[0,1].bar(x_pos, f1, color=['skyblue', 'lightcoral', 'lightgreen', 'gold'][:len(class_names)])\n",
        "axes[0,1].set_xlabel('Classes')\n",
        "axes[0,1].set_ylabel('F1-Score')\n",
        "axes[0,1].set_title('📈 F1-Score per Class')\n",
        "axes[0,1].set_xticks(x_pos)\n",
        "axes[0,1].set_xticklabels(class_names, rotation=45)\n",
        "\n",
        "# Add value labels on bars\n",
        "for bar, score in zip(bars, f1):\n",
        "    height = bar.get_height()\n",
        "    axes[0,1].text(bar.get_x() + bar.get_width()/2., height + 0.01,\n",
        "                   f'{score:.3f}', ha='center', va='bottom')\n",
        "\n",
        "# 3. Confidence score distribution\n",
        "axes[1,0].hist(confidence_scores, bins=20, alpha=0.7, color='purple', edgecolor='black')\n",
        "axes[1,0].axvline(confidence_scores.mean(), color='red', linestyle='--',\n",
        "                  label=f'Mean: {confidence_scores.mean():.3f}')\n",
        "axes[1,0].set_xlabel('Confidence Score')\n",
        "axes[1,0].set_ylabel('Frequency')\n",
        "axes[1,0].set_title('📊 Prediction Confidence Distribution')\n",
        "axes[1,0].legend()\n",
        "axes[1,0].grid(True, alpha=0.3)\n",
        "\n",
        "# 4. Precision vs Recall scatter plot\n",
        "axes[1,1].scatter(recall, precision, s=support*10, alpha=0.6,\n",
        "                  c=range(len(class_names)), cmap='viridis')\n",
        "axes[1,1].set_xlabel('Recall')\n",
        "axes[1,1].set_ylabel('Precision')\n",
        "axes[1,1].set_title('🎯 Precision vs Recall (size = support)')\n",
        "axes[1,1].grid(True, alpha=0.3)\n",
        "\n",
        "# Add class labels to points\n",
        "for i, class_name in enumerate(class_names):\n",
        "    axes[1,1].annotate(class_name, (recall[i], precision[i]),\n",
        "                       xytext=(5, 5), textcoords='offset points')\n",
        "\n",
        "plt.tight_layout()\n",
        "plt.show()\n",
        "\n",
        "# Additional detailed metrics visualization\n",
        "fig, axes = plt.subplots(1, 2, figsize=(15, 5))\n",
        "\n",
        "# 5. Metrics comparison bar chart\n",
        "metrics_names = ['Precision', 'Recall', 'F1-Score']\n",
        "metrics_data = np.array([precision, recall, f1])\n",
        "\n",
        "x = np.arange(len(class_names))\n",
        "width = 0.25\n",
        "\n",
        "for i, metric in enumerate(metrics_names):\n",
        "    offset = width * (i - 1)\n",
        "    bars = axes[0].bar(x + offset, metrics_data[i], width,\n",
        "                       label=metric, alpha=0.8)\n",
        "\n",
        "    # Add value labels\n",
        "    for bar, value in zip(bars, metrics_data[i]):\n",
        "        height = bar.get_height()\n",
        "        axes[0].text(bar.get_x() + bar.get_width()/2., height + 0.01,\n",
        "                     f'{value:.2f}', ha='center', va='bottom', fontsize=8)\n",
        "\n",
        "axes[0].set_xlabel('Classes')\n",
        "axes[0].set_ylabel('Score')\n",
        "axes[0].set_title('📊 Detailed Metrics Comparison')\n",
        "axes[0].set_xticks(x)\n",
        "axes[0].set_xticklabels(class_names)\n",
        "axes[0].legend()\n",
        "axes[0].grid(True, alpha=0.3)\n",
        "\n",
        "# 6. Sample predictions with confidence\n",
        "# Show some examples of correct and incorrect predictions\n",
        "correct_mask = (y_true == y_pred)\n",
        "incorrect_mask = ~correct_mask\n",
        "\n",
        "if np.sum(incorrect_mask) > 0:\n",
        "    # Plot confidence distribution for correct vs incorrect predictions\n",
        "    axes[1].hist(confidence_scores[correct_mask], bins=15, alpha=0.7,\n",
        "                 color='green', label='Correct Predictions', density=True)\n",
        "    axes[1].hist(confidence_scores[incorrect_mask], bins=15, alpha=0.7,\n",
        "                 color='red', label='Incorrect Predictions', density=True)\n",
        "    axes[1].set_xlabel('Confidence Score')\n",
        "    axes[1].set_ylabel('Density')\n",
        "    axes[1].set_title('🎯 Confidence: Correct vs Incorrect Predictions')\n",
        "    axes[1].legend()\n",
        "    axes[1].grid(True, alpha=0.3)\n",
        "else:\n",
        "    axes[1].text(0.5, 0.5, 'Perfect Predictions!\\n🎉',\n",
        "                 horizontalalignment='center', verticalalignment='center',\n",
        "                 transform=axes[1].transAxes, fontsize=20)\n",
        "    axes[1].set_title('🎯 Confidence Analysis')\n",
        "\n",
        "plt.tight_layout()\n",
        "plt.show()\n",
        "\n",
        "# Print detailed classification report\n",
        "from sklearn.metrics import classification_report\n",
        "print(\"\\n📋 Detailed Classification Report:\")\n",
        "print(\"=\"*60)\n",
        "print(classification_report(y_true, y_pred, target_names=label_encoder.classes_, digits=4))"
      ],
      "metadata": {
        "colab": {
          "base_uri": "https://localhost:8080/",
          "height": 1000
        },
        "id": "gnqIoeiueFdW",
        "outputId": "9471152e-9369-4c27-e300-2a343e266bc7"
      },
      "execution_count": 57,
      "outputs": [
        {
          "output_type": "stream",
          "name": "stdout",
          "text": [
            "Evaluating model...\n"
          ]
        },
        {
          "output_type": "display_data",
          "data": {
            "text/plain": [
              "<IPython.core.display.HTML object>"
            ],
            "text/html": []
          },
          "metadata": {}
        },
        {
          "output_type": "stream",
          "name": "stdout",
          "text": [
            "📊 Evaluation Results:\n",
            "eval_loss: 1.7347\n",
            "eval_accuracy: 0.7056\n",
            "eval_f1: 0.6991\n",
            "eval_precision: 0.7051\n",
            "eval_recall: 0.7056\n",
            "eval_runtime: 1.2253\n",
            "eval_samples_per_second: 188.5260\n",
            "eval_steps_per_second: 12.2420\n",
            "epoch: 20.0000\n",
            "\n",
            "Prediction confidence statistics:\n",
            "Mean confidence: 0.9543\n",
            "Min confidence: 0.3572\n",
            "Max confidence: 0.9998\n"
          ]
        },
        {
          "output_type": "stream",
          "name": "stderr",
          "text": [
            "/usr/local/lib/python3.12/dist-packages/seaborn/utils.py:61: UserWarning: Glyph 128202 (\\N{BAR CHART}) missing from font(s) DejaVu Sans.\n",
            "  fig.canvas.draw()\n",
            "/tmp/ipython-input-996520825.py:81: UserWarning: Glyph 127919 (\\N{DIRECT HIT}) missing from font(s) DejaVu Sans.\n",
            "  plt.tight_layout()\n",
            "/tmp/ipython-input-996520825.py:81: UserWarning: Glyph 128200 (\\N{CHART WITH UPWARDS TREND}) missing from font(s) DejaVu Sans.\n",
            "  plt.tight_layout()\n",
            "/tmp/ipython-input-996520825.py:81: UserWarning: Glyph 128202 (\\N{BAR CHART}) missing from font(s) DejaVu Sans.\n",
            "  plt.tight_layout()\n",
            "/usr/local/lib/python3.12/dist-packages/IPython/core/pylabtools.py:151: UserWarning: Glyph 127919 (\\N{DIRECT HIT}) missing from font(s) DejaVu Sans.\n",
            "  fig.canvas.print_figure(bytes_io, **kw)\n",
            "/usr/local/lib/python3.12/dist-packages/IPython/core/pylabtools.py:151: UserWarning: Glyph 128200 (\\N{CHART WITH UPWARDS TREND}) missing from font(s) DejaVu Sans.\n",
            "  fig.canvas.print_figure(bytes_io, **kw)\n",
            "/usr/local/lib/python3.12/dist-packages/IPython/core/pylabtools.py:151: UserWarning: Glyph 128202 (\\N{BAR CHART}) missing from font(s) DejaVu Sans.\n",
            "  fig.canvas.print_figure(bytes_io, **kw)\n"
          ]
        },
        {
          "output_type": "display_data",
          "data": {
            "text/plain": [
              "<Figure size 1500x1200 with 5 Axes>"
            ],
            "image/png": "[encoded data removed]"
          },
          "metadata": {}
        },
        {
          "output_type": "stream",
          "name": "stderr",
          "text": [
            "/tmp/ipython-input-996520825.py:135: UserWarning: Glyph 128202 (\\N{BAR CHART}) missing from font(s) DejaVu Sans.\n",
            "  plt.tight_layout()\n",
            "/tmp/ipython-input-996520825.py:135: UserWarning: Glyph 127919 (\\N{DIRECT HIT}) missing from font(s) DejaVu Sans.\n",
            "  plt.tight_layout()\n",
            "/usr/local/lib/python3.12/dist-packages/IPython/core/pylabtools.py:151: UserWarning: Glyph 128202 (\\N{BAR CHART}) missing from font(s) DejaVu Sans.\n",
            "  fig.canvas.print_figure(bytes_io, **kw)\n",
            "/usr/local/lib/python3.12/dist-packages/IPython/core/pylabtools.py:151: UserWarning: Glyph 127919 (\\N{DIRECT HIT}) missing from font(s) DejaVu Sans.\n",
            "  fig.canvas.print_figure(bytes_io, **kw)\n"
          ]
        },
        {
          "output_type": "display_data",
          "data": {
            "text/plain": [
              "<Figure size 1500x500 with 2 Axes>"
            ],
            "image/png": "[encoded data removed]"
          },
          "metadata": {}
        },
        {
          "output_type": "stream",
          "name": "stdout",
          "text": [
            "\n",
            "📋 Detailed Classification Report:\n",
            "============================================================\n",
            "              precision    recall  f1-score   support\n",
            "\n",
            "       ANGRY     0.5926    0.5161    0.5517        31\n",
            "        FEAR     0.7273    0.7273    0.7273        11\n",
            "       HAPPY     0.8393    0.8545    0.8468        55\n",
            "        HATE     0.6667    0.3077    0.4211        13\n",
            "       OTHER     0.7317    0.7692    0.7500        39\n",
            "         SAD     0.6308    0.7736    0.6949        53\n",
            "    SURPRISE     0.6800    0.5862    0.6296        29\n",
            "\n",
            "    accuracy                         0.7056       231\n",
            "   macro avg     0.6955    0.6478    0.6602       231\n",
            "weighted avg     0.7051    0.7056    0.6991       231\n",
            "\n"
          ]
        }
      ]
    },
    {
      "cell_type": "code",
      "source": [
        "# Print some example predictions\n",
        "print(\"\\n🔍 Sample Predictions Analysis:\")\n",
        "print(\"=\"*60)\n",
        "\n",
        "# Show examples of high-confidence correct predictions\n",
        "if len(val_texts) > 0:\n",
        "    high_conf_correct = np.where((correct_mask) & (confidence_scores > 0.9))[0]\n",
        "    low_conf_incorrect = np.where((incorrect_mask) & (confidence_scores < 0.7))[0]\n",
        "\n",
        "    print(\"✅ High-confidence CORRECT predictions:\")\n",
        "    for idx in high_conf_correct[:3]:  # Show first 3\n",
        "        true_label = label_encoder.classes_[y_true[idx]]\n",
        "        pred_label = label_encoder.classes_[y_pred[idx]]\n",
        "        conf = confidence_scores[idx]\n",
        "        text = val_texts[idx][:100] + \"...\" if len(val_texts[idx]) > 100 else val_texts[idx]\n",
        "        print(f\"Text: {text}\")\n",
        "        print(f\"True: {true_label} | Predicted: {pred_label} | Confidence: {conf:.4f}\")\n",
        "        print(\"-\" * 40)\n",
        "\n",
        "    if len(low_conf_incorrect) > 0:\n",
        "        print(\"\\n❌ Low-confidence INCORRECT predictions:\")\n",
        "        for idx in low_conf_incorrect[:3]:  # Show first 3\n",
        "            true_label = label_encoder.classes_[y_true[idx]]\n",
        "            pred_label = label_encoder.classes_[y_pred[idx]]\n",
        "            conf = confidence_scores[idx]\n",
        "            text = val_texts[idx][:100] + \"...\" if len(val_texts[idx]) > 100 else val_texts[idx]\n",
        "            print(f\"Text: {text}\")\n",
        "            print(f\"True: {true_label} | Predicted: {pred_label} | Confidence: {conf:.4f}\")\n",
        "            print(\"-\" * 40)"
      ],
      "metadata": {
        "colab": {
          "base_uri": "https://localhost:8080/"
        },
        "id": "pJaBuyDwaGAV",
        "outputId": "40f42779-1e47-465a-96e3-5d786e7585db"
      },
      "execution_count": 53,
      "outputs": [
        {
          "output_type": "stream",
          "name": "stdout",
          "text": [
            "\n",
            "🔍 Sample Predictions Analysis:\n",
            "============================================================\n",
            "✅ High-confidence CORRECT predictions:\n",
            "Text: امروز شهریور #روز_ملی_یوزپلنگ_ایرانی است؛ خانواده های زندانیان حامی محیط زیست پیام میدهند و تقاضای پ...\n",
            "True: SAD | Predicted: SAD | Confidence: 0.9995\n",
            "----------------------------------------\n",
            "Text: درود و سلام بر همه هموطنان عزیزی ک امروز در راه پیمایی شرکت کردن و چ اون بزرگوارانی ک ب دلایلی نتونس...\n",
            "True: HAPPY | Predicted: HAPPY | Confidence: 0.9998\n",
            "----------------------------------------\n",
            "Text: سوالتو بپرس تا من جوابتو بدم\n",
            "True: OTHER | Predicted: OTHER | Confidence: 0.9997\n",
            "----------------------------------------\n",
            "\n",
            "❌ Low-confidence INCORRECT predictions:\n",
            "Text: نه ببین همون کاری که من میکنمو بکن! این کارا فایده نداره تو هم اگه مث من حرکت میزدی الان وضعت این نب...\n",
            "True: OTHER | Predicted: SAD | Confidence: 0.6411\n",
            "----------------------------------------\n",
            "Text: منم حاضرم قسم بخورم که دروغ میگه خانوم بحث آخوند بودنش نیست من خودم از آخوندا بدم میاد ولی من خودم ا...\n",
            "True: OTHER | Predicted: SURPRISE | Confidence: 0.6430\n",
            "----------------------------------------\n",
            "Text: فیلمی که از جیم کری باید دید: .درخشش ابدی یک ذهن پاک .نمایش ترومن .مرد روی ماه .دروغگو دروغگو .ماسک ...\n",
            "True: OTHER | Predicted: SAD | Confidence: 0.3572\n",
            "----------------------------------------\n"
          ]
        }
      ]
    },
    {
      "cell_type": "code",
      "source": [
        "# Summary statistics\n",
        "print(f\"\\n📈 Final Performance Summary:\")\n",
        "print(\"=\"*40)\n",
        "print(f\"🎯 Overall Accuracy: {accuracy_score(y_true, y_pred):.4f}\")\n",
        "print(f\"📊 Macro F1-Score: {f1.mean():.4f}\")\n",
        "print(f\"🔍 Average Confidence: {confidence_scores.mean():.4f}\")\n",
        "print(f\"✅ Correct Predictions: {np.sum(correct_mask)}/{len(y_true)} ({100*np.sum(correct_mask)/len(y_true):.1f}%)\")\n",
        "\n",
        "print(\"\\n✅ Detailed evaluation complete!\")"
      ],
      "metadata": {
        "colab": {
          "base_uri": "https://localhost:8080/"
        },
        "id": "fE9e7wCGXZ-I",
        "outputId": "cd6dd704-1722-4b4b-aaf9-4a6499082112"
      },
      "execution_count": 54,
      "outputs": [
        {
          "output_type": "stream",
          "name": "stdout",
          "text": [
            "\n",
            "📈 Final Performance Summary:\n",
            "========================================\n",
            "🎯 Overall Accuracy: 0.7056\n",
            "📊 Macro F1-Score: 0.6602\n",
            "🔍 Average Confidence: 0.9543\n",
            "✅ Correct Predictions: 163/231 (70.6%)\n",
            "\n",
            "✅ Detailed evaluation complete!\n"
          ]
        }
      ]
    },
    {
      "cell_type": "markdown",
      "source": [
        "# ============================================================================\n",
        "# 10. SAVING & UPLOADING TO HUGGING FACE HUB\n",
        "# ============================================================================\n"
      ],
      "metadata": {
        "id": "87I9oeFhZrC8"
      }
    },
    {
      "cell_type": "code",
      "source": [
        "# Save model locally first\n",
        "model_save_path = \"./persian-bert-emotion\"\n",
        "trainer.save_model(model_save_path)\n",
        "tokenizer.save_pretrained(model_save_path)\n",
        "\n",
        "print(f\"✅ Model saved locally at: {model_save_path}\")"
      ],
      "metadata": {
        "colab": {
          "base_uri": "https://localhost:8080/"
        },
        "id": "i9J3lNH2ZLKx",
        "outputId": "1f88f5d1-8baa-4c23-b807-361d523b2fc7"
      },
      "execution_count": 55,
      "outputs": [
        {
          "output_type": "stream",
          "name": "stdout",
          "text": [
            "✅ Model saved locally at: ./persian-bert-emotion\n"
          ]
        }
      ]
    },
    {
      "cell_type": "markdown",
      "source": [
        "# ============================================================================\n",
        "# SUMMARY & NEXT STEPS\n",
        "# ============================================================================"
      ],
      "metadata": {
        "id": "eYkJhYWfZl5C"
      }
    },
    {
      "cell_type": "code",
      "source": [
        "print(\"🎉 PROJECT COMPLETE!\")\n",
        "print(\"=\" * 50)\n",
        "print(\"What we accomplished:\")\n",
        "print(\"✅ Loaded and preprocessed Persian dataset\")\n",
        "print(\"✅ Fine-tuned BERT model for emotion classification\")\n",
        "print(\"✅ Achieved good performance on validation set\")\n",
        "print(\"✅ Uploaded model to Hugging Face Hub\")\n",
        "print(\"✅ Demonstrated inference with new text\")"
      ],
      "metadata": {
        "colab": {
          "base_uri": "https://localhost:8080/"
        },
        "id": "qmBpVIi_Yuhp",
        "outputId": "dbc56bdf-47a3-42ac-cc8b-530b00c2affb"
      },
      "execution_count": 58,
      "outputs": [
        {
          "output_type": "stream",
          "name": "stdout",
          "text": [
            "🎉 PROJECT COMPLETE!\n",
            "==================================================\n",
            "What we accomplished:\n",
            "✅ Loaded and preprocessed Persian dataset\n",
            "✅ Fine-tuned BERT model for emotion classification\n",
            "✅ Achieved good performance on validation set\n",
            "✅ Uploaded model to Hugging Face Hub\n",
            "✅ Demonstrated inference with new text\n"
          ]
        }
      ]
    }
  ]
}